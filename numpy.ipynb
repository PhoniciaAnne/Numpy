{
  "nbformat": 4,
  "nbformat_minor": 0,
  "metadata": {
    "colab": {
      "provenance": [],
      "authorship_tag": "ABX9TyPAgqZxe7mt8S4H0njAup1u",
      "include_colab_link": true
    },
    "kernelspec": {
      "name": "python3",
      "display_name": "Python 3"
    },
    "language_info": {
      "name": "python"
    }
  },
  "cells": [
    {
      "cell_type": "markdown",
      "metadata": {
        "id": "view-in-github",
        "colab_type": "text"
      },
      "source": [
        "<a href=\"https://colab.research.google.com/github/PhoniciaAnne/Numpy/blob/main/numpy.ipynb\" target=\"_parent\"><img src=\"https://colab.research.google.com/assets/colab-badge.svg\" alt=\"Open In Colab\"/></a>"
      ]
    },
    {
      "cell_type": "code",
      "execution_count": 26,
      "metadata": {
        "colab": {
          "base_uri": "https://localhost:8080/"
        },
        "id": "B7I-PQb7WKcv",
        "outputId": "76dc535d-dcd3-4bbb-df2f-8a4d5da438dd"
      },
      "outputs": [
        {
          "output_type": "stream",
          "name": "stdout",
          "text": [
            "Requirement already satisfied: numpy in /usr/local/lib/python3.10/dist-packages (1.25.2)\n"
          ]
        }
      ],
      "source": [
        "pip install numpy"
      ]
    },
    {
      "cell_type": "code",
      "source": [
        "import numpy as np\n",
        "arr = np.array([[1,2,3,4,5],[5,6,7,8,9]],dtype = np.float128)\n",
        "print(arr.shape)\n",
        "\n",
        "arr = np.arange(2,8)\n",
        "print(arr)"
      ],
      "metadata": {
        "colab": {
          "base_uri": "https://localhost:8080/"
        },
        "id": "LgVAoNI-WWGG",
        "outputId": "ae7a68f2-d847-435a-8602-d963b6e69524"
      },
      "execution_count": 27,
      "outputs": [
        {
          "output_type": "stream",
          "name": "stdout",
          "text": [
            "(2, 5)\n",
            "[2 3 4 5 6 7]\n"
          ]
        }
      ]
    },
    {
      "cell_type": "code",
      "source": [
        "d3_arr = np.zeros((2,3,4))\n",
        "print(d3_arr)\n",
        "print(d3_arr.size)"
      ],
      "metadata": {
        "colab": {
          "base_uri": "https://localhost:8080/"
        },
        "id": "8nb1I0EgWpv1",
        "outputId": "af440358-c12f-410a-ca97-70a5e14036a8"
      },
      "execution_count": 28,
      "outputs": [
        {
          "output_type": "stream",
          "name": "stdout",
          "text": [
            "[[[0. 0. 0. 0.]\n",
            "  [0. 0. 0. 0.]\n",
            "  [0. 0. 0. 0.]]\n",
            "\n",
            " [[0. 0. 0. 0.]\n",
            "  [0. 0. 0. 0.]\n",
            "  [0. 0. 0. 0.]]]\n",
            "24\n"
          ]
        }
      ]
    },
    {
      "cell_type": "code",
      "source": [
        "arr_4d = np.ones((1,4,3,4))\n",
        "print(arr_4d)\n",
        "#x = blocks, y = 4 clolums , z = 3 rows , last = 4 numbers in each row\n",
        "#item size\n",
        "print(arr_4d.itemsize)"
      ],
      "metadata": {
        "colab": {
          "base_uri": "https://localhost:8080/"
        },
        "id": "PyZhoiwhbMD7",
        "outputId": "d27f5b6c-dbf7-4981-b16e-2af470a71cce"
      },
      "execution_count": 29,
      "outputs": [
        {
          "output_type": "stream",
          "name": "stdout",
          "text": [
            "[[[[1. 1. 1. 1.]\n",
            "   [1. 1. 1. 1.]\n",
            "   [1. 1. 1. 1.]]\n",
            "\n",
            "  [[1. 1. 1. 1.]\n",
            "   [1. 1. 1. 1.]\n",
            "   [1. 1. 1. 1.]]\n",
            "\n",
            "  [[1. 1. 1. 1.]\n",
            "   [1. 1. 1. 1.]\n",
            "   [1. 1. 1. 1.]]\n",
            "\n",
            "  [[1. 1. 1. 1.]\n",
            "   [1. 1. 1. 1.]\n",
            "   [1. 1. 1. 1.]]]]\n",
            "8\n"
          ]
        }
      ]
    },
    {
      "cell_type": "code",
      "source": [
        "array = np.full([2,3],5)\n",
        "print(array)\n"
      ],
      "metadata": {
        "colab": {
          "base_uri": "https://localhost:8080/"
        },
        "id": "vwWF4Vcnfp1K",
        "outputId": "ecae3a18-edd4-41e3-c369-d9aca547e4a1"
      },
      "execution_count": 30,
      "outputs": [
        {
          "output_type": "stream",
          "name": "stdout",
          "text": [
            "[[5 5 5]\n",
            " [5 5 5]]\n"
          ]
        }
      ]
    },
    {
      "cell_type": "code",
      "source": [
        "#Array Operations\n",
        "sum =np.add([1,2],[1,2])\n",
        "print(\"Sum is \",sum)\n",
        "sub = np.subtract([7,8],[1,2])\n",
        "print('subtraction is ',sub)\n",
        "mul = np.multiply([1,2,3],[1,2,3])\n",
        "print('multiplication is ',mul)\n",
        "div = np.divide([10,20],[2,2])\n",
        "print('divison is ',div)\n",
        "mod = np.mod([10,15],[3,4])\n",
        "print('modules is ',mod)\n",
        "pow = np.power([2,3,4],[3,2,1])\n",
        "print('power is ',pow)"
      ],
      "metadata": {
        "colab": {
          "base_uri": "https://localhost:8080/"
        },
        "id": "a9QaG3C3k41a",
        "outputId": "57c1b8d5-0cbe-4027-8056-3b05c42a9974"
      },
      "execution_count": 33,
      "outputs": [
        {
          "output_type": "stream",
          "name": "stdout",
          "text": [
            "Sum is  [2 4]\n",
            "subtraction is  [6 6]\n",
            "multiplication is  [1 4 9]\n",
            "divison is  [ 5. 10.]\n",
            "modules is  [1 3]\n",
            "power is  [8 9 4]\n"
          ]
        }
      ]
    },
    {
      "cell_type": "code",
      "source": [
        "#Relational operators\n",
        "a = np.array([1,2,3])\n",
        "b = np.array([2,2,1])\n",
        "\n",
        "print(\"equals\", a == b)\n",
        "print('not equal', a!=b)\n",
        "print('greater than', a>b)\n",
        "print('less than', a<b)\n",
        "print('<=', a<=b)\n",
        "\n"
      ],
      "metadata": {
        "colab": {
          "base_uri": "https://localhost:8080/"
        },
        "id": "d4tb_BvXmPK1",
        "outputId": "1f6f72bf-e127-499e-e0cb-67bfee716db2"
      },
      "execution_count": 38,
      "outputs": [
        {
          "output_type": "stream",
          "name": "stdout",
          "text": [
            "equals [False  True False]\n",
            "not equal [ True False  True]\n",
            "greater than [False False  True]\n",
            "less than [ True False False]\n",
            "<= [ True  True False]\n",
            "2\n",
            "[2 1]\n"
          ]
        }
      ]
    },
    {
      "cell_type": "code",
      "source": [
        "#indexing\n",
        "a = np.array([1,2,3,4,6,7])\n",
        "print(a[1])\n",
        "print(b[1:3])\n",
        "print(a[1:4:2])\n",
        "print(a[-3])"
      ],
      "metadata": {
        "colab": {
          "base_uri": "https://localhost:8080/"
        },
        "id": "hURNcUjNoTl8",
        "outputId": "0e09a168-ff24-404a-9109-5eea44aeaf2f"
      },
      "execution_count": 41,
      "outputs": [
        {
          "output_type": "stream",
          "name": "stdout",
          "text": [
            "2\n",
            "[2 1]\n",
            "[2 4]\n",
            "4\n"
          ]
        }
      ]
    },
    {
      "cell_type": "code",
      "source": [
        "arr = np.array([[1,2,3,4,5],[5,6,7,8,9]])\n",
        "print(arr)\n",
        "print(arr[0:2,2:5])\n",
        "print(arr[-2,-1])\n"
      ],
      "metadata": {
        "colab": {
          "base_uri": "https://localhost:8080/"
        },
        "id": "ftFuvNVy47fP",
        "outputId": "bbeb6280-5817-4edb-9e23-f1d982bf1d74"
      },
      "execution_count": 47,
      "outputs": [
        {
          "output_type": "stream",
          "name": "stdout",
          "text": [
            "[[1 2 3 4 5]\n",
            " [5 6 7 8 9]]\n",
            "[[3 4 5]\n",
            " [7 8 9]]\n",
            "5\n"
          ]
        }
      ]
    },
    {
      "cell_type": "code",
      "source": [
        "#masking\n",
        "a = np.array([1,4,2,3,4])\n",
        "mask = a > 2\n",
        "print(a[mask])"
      ],
      "metadata": {
        "colab": {
          "base_uri": "https://localhost:8080/"
        },
        "id": "iVeqbdoo6xHr",
        "outputId": "dc8c55cb-98f3-4ad6-bef9-0732e96968ec"
      },
      "execution_count": 49,
      "outputs": [
        {
          "output_type": "stream",
          "name": "stdout",
          "text": [
            "[4 3 4]\n"
          ]
        }
      ]
    },
    {
      "cell_type": "code",
      "source": [
        "#Transpose of array\n",
        "a = np.array(([1,2,3],[2,4,5]))\n",
        "b = a.T\n",
        "print(b)\n",
        "print(a.shape)\n",
        "print(b.shape)\n",
        "print(a.swapaxes(0,1))"
      ],
      "metadata": {
        "colab": {
          "base_uri": "https://localhost:8080/"
        },
        "id": "HfVlsx4q8-Vr",
        "outputId": "63b129d2-1155-4e6f-cbca-5a809622c3c6"
      },
      "execution_count": 54,
      "outputs": [
        {
          "output_type": "stream",
          "name": "stdout",
          "text": [
            "[[1 2]\n",
            " [2 4]\n",
            " [3 5]]\n",
            "(2, 3)\n",
            "(3, 2)\n",
            "[[1 2]\n",
            " [2 4]\n",
            " [3 5]]\n"
          ]
        }
      ]
    },
    {
      "cell_type": "code",
      "source": [
        "#random no genrations\n",
        "a = np.random.randint(1,10,size =(5, 5))\n",
        "print(a)\n",
        "b = np.random.normal(size=3)\n",
        "print(b)"
      ],
      "metadata": {
        "colab": {
          "base_uri": "https://localhost:8080/"
        },
        "id": "orYRKcjd-j29",
        "outputId": "402a7e3e-1cec-42b6-91b3-cf496154ae37"
      },
      "execution_count": 59,
      "outputs": [
        {
          "output_type": "stream",
          "name": "stdout",
          "text": [
            "[[9 2 3 7 9]\n",
            " [6 5 9 9 9]\n",
            " [7 3 7 3 3]\n",
            " [2 2 5 2 7]\n",
            " [3 4 9 2 7]]\n",
            "[-0.95962882 -1.10298299 -0.38578358]\n"
          ]
        }
      ]
    },
    {
      "cell_type": "code",
      "source": [
        "a = np.array([1,2,3,4,5,6])\n",
        "print(a.reshape(3,2))"
      ],
      "metadata": {
        "colab": {
          "base_uri": "https://localhost:8080/"
        },
        "id": "xmLKCmjRB6Vu",
        "outputId": "ba6cd087-a627-4892-f416-a507c3687797"
      },
      "execution_count": 65,
      "outputs": [
        {
          "output_type": "stream",
          "name": "stdout",
          "text": [
            "[[1 2]\n",
            " [3 4]\n",
            " [5 6]]\n"
          ]
        }
      ]
    },
    {
      "cell_type": "code",
      "source": [
        "#aggregate functions\n",
        "a = np.arange(1,10)\n",
        "print(\"Minimum is \",np.min(a))\n",
        "print(\"Maximum is \",np.max(a))\n",
        "print(\"Mean is \",np.mean(a))\n",
        "print(\"sum is \",np.sum(a))"
      ],
      "metadata": {
        "colab": {
          "base_uri": "https://localhost:8080/"
        },
        "id": "RVqsTPw8D1_a",
        "outputId": "c1f5eada-49b1-4944-88f6-382e38109b11"
      },
      "execution_count": 70,
      "outputs": [
        {
          "output_type": "stream",
          "name": "stdout",
          "text": [
            "Minimum is  1\n",
            "Maximum is  9\n",
            "Mean is  5.0\n",
            "sum is  45\n"
          ]
        }
      ]
    },
    {
      "cell_type": "code",
      "source": [
        "#basic arth functions\n",
        "a = np.array([1,2,3,4,5])\n",
        "print(np.add(a,2))\n",
        "print(np.multiply(a,3))"
      ],
      "metadata": {
        "colab": {
          "base_uri": "https://localhost:8080/"
        },
        "id": "tR4IN2e7Emwy",
        "outputId": "f08f866a-77de-4eda-b5c9-097f2ae3c3a6"
      },
      "execution_count": 74,
      "outputs": [
        {
          "output_type": "stream",
          "name": "stdout",
          "text": [
            "[3 4 5 6 7]\n",
            "[ 3  6  9 12 15]\n"
          ]
        }
      ]
    },
    {
      "cell_type": "code",
      "source": [
        "#trigonometric\n",
        "angles = np.array([0,np.pi/4,np.pi/3])\n",
        "result = np.sin(angles)\n",
        "print(result)\n",
        "result = np.cos(angles)\n",
        "print(result)"
      ],
      "metadata": {
        "colab": {
          "base_uri": "https://localhost:8080/"
        },
        "id": "43Nr1-j1FcxF",
        "outputId": "6d9a0718-a091-4a1f-dac5-8bbab7d88806"
      },
      "execution_count": 77,
      "outputs": [
        {
          "output_type": "stream",
          "name": "stdout",
          "text": [
            "[0.         0.70710678 0.8660254 ]\n",
            "[1.         0.70710678 0.5       ]\n"
          ]
        }
      ]
    },
    {
      "cell_type": "code",
      "source": [
        "#exponential\n",
        "a = np.array([2,3,4,5])\n",
        "exp = np.exp(a)\n",
        "print(exp)\n",
        "#natural logartihmic fucntions\n",
        "logfunction = np.log(a)\n",
        "print(logfunction)"
      ],
      "metadata": {
        "colab": {
          "base_uri": "https://localhost:8080/"
        },
        "id": "ZzCQCCEyGmCf",
        "outputId": "4afd4580-c4cd-495e-9922-58e88e98600a"
      },
      "execution_count": 80,
      "outputs": [
        {
          "output_type": "stream",
          "name": "stdout",
          "text": [
            "[  7.3890561   20.08553692  54.59815003 148.4131591 ]\n",
            "[0.69314718 1.09861229 1.38629436 1.60943791]\n"
          ]
        }
      ]
    },
    {
      "cell_type": "code",
      "source": [
        "a = np.array([2,3,4,5])\n",
        "mean = a.mean()\n",
        "print(mean)\n",
        "print(a.std())"
      ],
      "metadata": {
        "colab": {
          "base_uri": "https://localhost:8080/"
        },
        "id": "gTOvhA0GHMOQ",
        "outputId": "22e543fe-6e2c-40ad-af1d-4517e9a8b21e"
      },
      "execution_count": 84,
      "outputs": [
        {
          "output_type": "stream",
          "name": "stdout",
          "text": [
            "3.5\n",
            "1.118033988749895\n"
          ]
        }
      ]
    },
    {
      "cell_type": "code",
      "source": [
        "#comparison\n",
        "a = np.array([1,5,2,7,9])\n",
        "b = np.array([11,52,21,7,29])\n",
        "print(np.greater(a,b))"
      ],
      "metadata": {
        "colab": {
          "base_uri": "https://localhost:8080/"
        },
        "id": "jtQSZo73H1Se",
        "outputId": "ce3d2aae-1cb6-48fa-c796-63fbb5b8ca32"
      },
      "execution_count": 87,
      "outputs": [
        {
          "output_type": "stream",
          "name": "stdout",
          "text": [
            "[False False False False False]\n"
          ]
        }
      ]
    },
    {
      "cell_type": "code",
      "source": [
        "#Brodcasting\n",
        "a = np.array([1,5,2,7,9])\n",
        "b = a + 2\n",
        "print(b)"
      ],
      "metadata": {
        "colab": {
          "base_uri": "https://localhost:8080/"
        },
        "id": "UoQUtMThIpQe",
        "outputId": "21b021e0-fd03-49d2-d1d8-6db5ead887a0"
      },
      "execution_count": 88,
      "outputs": [
        {
          "output_type": "stream",
          "name": "stdout",
          "text": [
            "[ 3  7  4  9 11]\n"
          ]
        }
      ]
    },
    {
      "cell_type": "code",
      "source": [
        "#ravel to flaten array\n",
        "a = np.array(([1,2,3,4],[2,3,4,5]))\n",
        "print(a.ravel())\n",
        "print(a.flatten())"
      ],
      "metadata": {
        "colab": {
          "base_uri": "https://localhost:8080/"
        },
        "id": "9KJi7UgdJHDK",
        "outputId": "93e591b3-b7cc-4c51-e3ca-c15bb10f21c0"
      },
      "execution_count": 91,
      "outputs": [
        {
          "output_type": "stream",
          "name": "stdout",
          "text": [
            "[1 2 3 4 2 3 4 5]\n",
            "[1 2 3 4 2 3 4 5]\n"
          ]
        }
      ]
    },
    {
      "cell_type": "markdown",
      "source": [
        "\n",
        "\n",
        "```\n",
        "#diff btwn flatten and ravel\n",
        "array will change in ravel if modyfied\n",
        "array will not change even modified\n",
        "```\n"
      ],
      "metadata": {
        "id": "MRAtKh1wKc4A"
      }
    },
    {
      "cell_type": "code",
      "source": [
        "a = np.array(([2,3],[1,2]))\n",
        "b = a.ravel()\n",
        "b[0] = 100\n",
        "print(b)\n",
        "c = a.flatten()\n",
        "c[0] = 200\n",
        "print(b)"
      ],
      "metadata": {
        "colab": {
          "base_uri": "https://localhost:8080/"
        },
        "id": "9QE85LmlLAEm",
        "outputId": "e1971faa-aecc-49b4-f515-1405ad0e1352"
      },
      "execution_count": 99,
      "outputs": [
        {
          "output_type": "stream",
          "name": "stdout",
          "text": [
            "[100   3   1   2]\n",
            "[100   3   1   2]\n"
          ]
        }
      ]
    },
    {
      "cell_type": "code",
      "source": [
        "#splititng\n",
        "a = np.arange(15)\n",
        "print(np.split(a,3))\n",
        "#split unequals also -np.array_split(a,num)\n",
        "b = np.arange(17)\n",
        "print(np.array_split(b,4))"
      ],
      "metadata": {
        "colab": {
          "base_uri": "https://localhost:8080/"
        },
        "id": "DpxS66ENJ4i_",
        "outputId": "44480c0c-d7c9-4976-d628-88e30fa5a097"
      },
      "execution_count": 105,
      "outputs": [
        {
          "output_type": "stream",
          "name": "stdout",
          "text": [
            "[array([0, 1, 2, 3, 4]), array([5, 6, 7, 8, 9]), array([10, 11, 12, 13, 14])]\n",
            "[array([0, 1, 2, 3, 4]), array([5, 6, 7, 8]), array([ 9, 10, 11, 12]), array([13, 14, 15, 16])]\n"
          ]
        }
      ]
    },
    {
      "cell_type": "code",
      "source": [
        "#Adding\n",
        "a = np.array(([1,2,3]))\n",
        "b = np.array(([5,6,7]))\n",
        "c = np.concatenate((a,b))\n",
        "print(c)\n"
      ],
      "metadata": {
        "colab": {
          "base_uri": "https://localhost:8080/"
        },
        "id": "aWKWQJpIMiyF",
        "outputId": "693fd3e7-4c8c-407a-96c7-16ed9f53821a"
      },
      "execution_count": 108,
      "outputs": [
        {
          "output_type": "stream",
          "name": "stdout",
          "text": [
            "[1 2 3 5 6 7]\n"
          ]
        }
      ]
    },
    {
      "cell_type": "code",
      "source": [
        "#insert and removing elements\n",
        "a = np.array(([1,2,3]))\n",
        "print(np.append(a,[4,5]))\n",
        "print(np.insert(a,2,[2,2]))\n",
        "print(np.delete(a,2))"
      ],
      "metadata": {
        "colab": {
          "base_uri": "https://localhost:8080/"
        },
        "id": "u-RGrMv7Nw8R",
        "outputId": "1b5e68a2-5e56-4347-9e78-5d6ba998dee0"
      },
      "execution_count": 111,
      "outputs": [
        {
          "output_type": "stream",
          "name": "stdout",
          "text": [
            "[1 2 3 4 5]\n",
            "[1 2 2 2 3]\n",
            "[1 2]\n"
          ]
        }
      ]
    },
    {
      "cell_type": "code",
      "source": [
        "# row = axis = 0,col = 1\n",
        "a = np.array(([2,3],[1,2]))\n",
        "print(np.delete(a,1,axis= 0))"
      ],
      "metadata": {
        "colab": {
          "base_uri": "https://localhost:8080/"
        },
        "id": "ghMMwHfHOisg",
        "outputId": "bdea3469-1c57-4060-a36a-1d182c94aa87"
      },
      "execution_count": 112,
      "outputs": [
        {
          "output_type": "stream",
          "name": "stdout",
          "text": [
            "[[2 3]]\n"
          ]
        }
      ]
    },
    {
      "cell_type": "code",
      "source": [],
      "metadata": {
        "id": "KyV7EYJ-PU7g"
      },
      "execution_count": null,
      "outputs": []
    }
  ]
}